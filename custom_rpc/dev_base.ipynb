{
 "cells": [
  {
   "cell_type": "code",
   "execution_count": null,
   "metadata": {},
   "outputs": [],
   "source": [
    "from flask import Flask, request, jsonify\n",
    "import requests\n",
    "import json\n",
    "from sim_tx import simulate_transaction\n",
    "\n",
    "app = Flask(__name__)\n",
    "\n",
    "RPC_URL = 'https://starknet-mainnet.public.blastapi.io/rpc/v0_7'\n",
    "\n",
    "def send_sim(contract, calldata):\n"
   ]
  }
 ],
 "metadata": {
  "language_info": {
   "name": "python"
  }
 },
 "nbformat": 4,
 "nbformat_minor": 2
}
