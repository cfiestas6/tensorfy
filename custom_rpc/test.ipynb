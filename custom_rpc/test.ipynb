{
 "cells": [
  {
   "cell_type": "code",
   "execution_count": 3,
   "metadata": {},
   "outputs": [
    {
     "name": "stdout",
     "output_type": "stream",
     "text": [
      "processing tx....\n",
      "Understood! How can I assist you with your transactions?\n"
     ]
    },
    {
     "data": {
      "text/plain": [
       "'Understood! How can I assist you with your transactions?'"
      ]
     },
     "execution_count": 3,
     "metadata": {},
     "output_type": "execute_result"
    }
   ],
   "source": [
    "from openai import OpenAI\n",
    "\n",
    "OPENAI_API_KEY=\"sk-proj-\"\n",
    "\n",
    "\n",
    "client = OpenAI(api_key=OPENAI_API_KEY)\n",
    "\n",
    "def llm_call(query):\n",
    "    print(\"processing tx....\")\n",
    "    completion = client.chat.completions.create(\n",
    "      model=\"gpt-4o-2024-05-13\",\n",
    "      messages=[\n",
    "        {\"role\": \"system\", \"content\": \"you are a expert system helping people understand transactions part of a wallet interface so keep it short.\"},\n",
    "        {\"role\": \"user\", \"content\": query}\n",
    "      ]\n",
    "    )\n",
    "\n",
    "    print(completion['choices'][0]['message']['content'])\n",
    "    return(completion['choices'][0]['message']['content'])\n",
    "llm_call(\"\")"
   ]
  }
 ],
 "metadata": {
  "kernelspec": {
   "display_name": "base",
   "language": "python",
   "name": "python3"
  },
  "language_info": {
   "codemirror_mode": {
    "name": "ipython",
    "version": 3
   },
   "file_extension": ".py",
   "mimetype": "text/x-python",
   "name": "python",
   "nbconvert_exporter": "python",
   "pygments_lexer": "ipython3",
   "version": "3.9.12"
  }
 },
 "nbformat": 4,
 "nbformat_minor": 2
}
